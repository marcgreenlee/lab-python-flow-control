{
 "cells": [
  {
   "cell_type": "markdown",
   "id": "d3bfc191-8885-42ee-b0a0-bbab867c6f9f",
   "metadata": {
    "tags": []
   },
   "source": [
    "# Lab | Flow Control"
   ]
  },
  {
   "cell_type": "markdown",
   "id": "3851fcd1-cf98-4653-9c89-e003b7ec9400",
   "metadata": {},
   "source": [
    "## Exercise: Managing Customer Orders Optimized\n",
    "\n",
    "In the last lab, you were starting an online store that sells various products. To ensure smooth operations, you developed a program that manages customer orders and inventory.\n",
    "\n",
    "You did so without using flow control. Let's go a step further and improve this code.\n",
    "\n",
    "Follow the steps below to complete the exercise:\n",
    "\n",
    "1. Look at your code from the lab data structures, and improve repeated code with loops.\n",
    "\n",
    "2. Instead of asking the user to input the name of three products that a customer wants to order, do the following:\n",
    "    \n",
    "    a. Prompt the user to enter the name of a product that a customer wants to order.\n",
    "    \n",
    "    b. Add the product name to the \"customer_orders\" set.\n",
    "    \n",
    "    c. Ask the user if they want to add another product (yes/no).\n",
    "    \n",
    "    d. Continue the loop until the user does not want to add another product.\n",
    "\n",
    "3. Instead of updating the inventory by subtracting 1 from the quantity of each product, only do it for  the products that were ordered (those in \"customer_orders\")."
   ]
  },
  {
   "cell_type": "code",
   "execution_count": 18,
   "id": "d9f535c7-de20-4f45-851b-a8421ce6ab8d",
   "metadata": {},
   "outputs": [
    {
     "data": {
      "text/plain": [
       "['t-shirt', 'mug', 'hat', 'book', 'keychain']"
      ]
     },
     "execution_count": 18,
     "metadata": {},
     "output_type": "execute_result"
    }
   ],
   "source": [
    "products = [\"t-shirt\", \"mug\", \"hat\", \"book\", \"keychain\"]\n",
    "products"
   ]
  },
  {
   "cell_type": "code",
   "execution_count": 19,
   "id": "ba00e4ef-23ce-4f64-aa2a-330a9d453507",
   "metadata": {},
   "outputs": [
    {
     "data": {
      "text/plain": [
       "{}"
      ]
     },
     "execution_count": 19,
     "metadata": {},
     "output_type": "execute_result"
    }
   ],
   "source": [
    "inventory = {}\n",
    "inventory"
   ]
  },
  {
   "cell_type": "code",
   "execution_count": 20,
   "id": "a00d476b-1ab2-4f60-ae48-bb515184d2af",
   "metadata": {},
   "outputs": [
    {
     "name": "stdin",
     "output_type": "stream",
     "text": [
      "please input the quantity of t-shirt available:  5\n",
      "please input the quantity of mug available:  4\n",
      "please input the quantity of hat available:  5\n",
      "please input the quantity of book available:  6\n",
      "please input the quantity of keychain available:  5\n"
     ]
    },
    {
     "name": "stdout",
     "output_type": "stream",
     "text": [
      "{'t-shirt': 5, 'mug': 4, 'hat': 5, 'book': 6, 'keychain': 5}\n"
     ]
    }
   ],
   "source": [
    "for product in products:\n",
    "    quantity = int(input(f\"please input the quantity of {product} available: \"))\n",
    "    inventory [product] = quantity\n",
    "\n",
    "print(inventory)"
   ]
  },
  {
   "cell_type": "code",
   "execution_count": 21,
   "id": "035bb308-b991-4ab4-8d01-9c3182ab2378",
   "metadata": {},
   "outputs": [
    {
     "data": {
      "text/plain": [
       "set()"
      ]
     },
     "execution_count": 21,
     "metadata": {},
     "output_type": "execute_result"
    }
   ],
   "source": [
    "customer_orders = set()\n",
    "customer_orders"
   ]
  },
  {
   "cell_type": "code",
   "execution_count": null,
   "id": "25ef9ca4-07f0-45f3-94aa-6ed4a7917cde",
   "metadata": {},
   "outputs": [],
   "source": []
  },
  {
   "cell_type": "code",
   "execution_count": 33,
   "id": "62c0396f-fbb2-442e-8238-0be78b75ebdf",
   "metadata": {},
   "outputs": [
    {
     "name": "stdin",
     "output_type": "stream",
     "text": [
      "Please enter the product a customer wants to order:  book\n",
      "do you want to add a new product? yes\n",
      "Please enter the product a customer wants to order:  mug\n",
      "do you want to add a new product? no\n"
     ]
    },
    {
     "name": "stdout",
     "output_type": "stream",
     "text": [
      "the customer order list is {'t-shirt', 'mug', 'book'}\n"
     ]
    }
   ],
   "source": [
    "new_order = input(\"Please enter the product a customer wants to order: \")\n",
    "customer_orders.add(new_order)\n",
    "\n",
    "while True:\n",
    "    new_product = input(\"do you want to add a new product?\")\n",
    "    \n",
    "    if new_product == \"yes\":\n",
    "        new_order = input(\"Please enter the product a customer wants to order: \")\n",
    "        customer_orders.add(new_order)\n",
    "        \n",
    "    elif new_product == \"no\":\n",
    "        print(\"the customer order list is\", customer_orders)\n",
    "        break \n",
    "\n",
    "    else: \n",
    "        print(\"please enter a valid response: yes or no\")\n"
   ]
  },
  {
   "cell_type": "code",
   "execution_count": 35,
   "id": "5af673aa-3829-4c14-b2f8-be2f7a3009d1",
   "metadata": {},
   "outputs": [
    {
     "name": "stdout",
     "output_type": "stream",
     "text": [
      "Inventory before customer purchase:  {'t-shirt': 5, 'mug': 4, 'hat': 5, 'book': 6, 'keychain': 5}\n",
      "Inventory after customer purchase:  {'t-shirt': 4, 'mug': 3, 'hat': 5, 'book': 5, 'keychain': 5}\n"
     ]
    }
   ],
   "source": [
    "print(\"Inventory before customer purchase: \",inventory)\n",
    "\n",
    "for product in customer_orders:\n",
    "    if product in inventory and inventory[product] > 0:\n",
    "        inventory [product] -= 1\n",
    "\n",
    "print(\"Inventory after customer purchase: \",inventory)"
   ]
  },
  {
   "cell_type": "code",
   "execution_count": null,
   "id": "f390ca8f-c59d-4033-98d9-fa2e793bdea9",
   "metadata": {},
   "outputs": [],
   "source": []
  }
 ],
 "metadata": {
  "kernelspec": {
   "display_name": "Python 3 (ipykernel)",
   "language": "python",
   "name": "python3"
  },
  "language_info": {
   "codemirror_mode": {
    "name": "ipython",
    "version": 3
   },
   "file_extension": ".py",
   "mimetype": "text/x-python",
   "name": "python",
   "nbconvert_exporter": "python",
   "pygments_lexer": "ipython3",
   "version": "3.12.4"
  }
 },
 "nbformat": 4,
 "nbformat_minor": 5
}
